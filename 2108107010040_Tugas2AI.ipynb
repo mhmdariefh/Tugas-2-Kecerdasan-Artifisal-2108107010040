{
 "cells": [
  {
   "cell_type": "code",
   "execution_count": 30,
   "metadata": {},
   "outputs": [],
   "source": [
    "import tensorflow as tf\n",
    "from keras.callbacks import TensorBoard\n",
    "import os\n",
    "from keras.preprocessing.image import ImageDataGenerator\n",
    "from keras.optimizers import Adam\n",
    "from keras.preprocessing.image import load_img\n",
    "import PIL\n",
    "from PIL import Image\n",
    "from keras.applications import Xception"
   ]
  },
  {
   "cell_type": "code",
   "execution_count": 31,
   "metadata": {},
   "outputs": [],
   "source": [
    "# Membuat class myCallback untuk menghentikan training ketika akurasi sudah mencapai 86% dan val_acc sudah mencapai 86%\n",
    "class myCallback(tf.keras.callbacks.Callback):\n",
    "    def on_epoch_end(self, epoch, logs={}):\n",
    "        if logs.get('acc') > 0.86 and logs.get('val_acc') > 0.86:\n",
    "            print(\"\\nAkurasi telah mencapai >86%!\")\n",
    "            self.model.stop_training = True"
   ]
  },
  {
   "cell_type": "code",
   "execution_count": 32,
   "metadata": {},
   "outputs": [
    {
     "name": "stdout",
     "output_type": "stream",
     "text": [
      "Found 557 images belonging to 2 classes.\n"
     ]
    },
    {
     "name": "stdout",
     "output_type": "stream",
     "text": [
      "Found 140 images belonging to 2 classes.\n"
     ]
    }
   ],
   "source": [
    "TRAINING_DIR = 'dataset/train'\n",
    "train_datagen = ImageDataGenerator(rescale=1.0/255.0)  # Normalize pixel values between 0 and 1\n",
    "\n",
    "# Load training data \n",
    "# Augmented\n",
    "train_generator = train_datagen.flow_from_directory(\n",
    "    TRAINING_DIR,\n",
    "    target_size=(200, 200),         # Resize images to 128x128\n",
    "    batch_size=32,                  # 128 images per batch \n",
    "    class_mode='categorical',       # binary labels\n",
    "    seed=32,                        # Optional: Set a random seed for shuffling\n",
    "    shuffle=True,                   # Shuffle the data during training\n",
    "    )\n",
    "\n",
    "        \n",
    "VALIDATION_DIR = 'dataset/test'\n",
    "validation_datagen = ImageDataGenerator(rescale=1.0/255.0)  # Normalize pixel values between 0 and 1\n",
    "\n",
    "# Load validation data\n",
    "validation_generator = validation_datagen.flow_from_directory(\n",
    "VALIDATION_DIR,\n",
    "target_size=(200, 200),  # Resize images to 150x150\n",
    "batch_size=32,\n",
    "class_mode='categorical')"
   ]
  },
  {
   "cell_type": "code",
   "execution_count": 33,
   "metadata": {},
   "outputs": [],
   "source": [
    "base_model = Xception(weights='imagenet', include_top=False, input_shape=(200, 200, 3))"
   ]
  },
  {
   "cell_type": "code",
   "execution_count": 34,
   "metadata": {},
   "outputs": [],
   "source": [
    "# Freeze the layers of the base model\n",
    "for layer in base_model.layers:\n",
    "    layer.trainable = False"
   ]
  },
  {
   "cell_type": "code",
   "execution_count": 35,
   "metadata": {},
   "outputs": [],
   "source": [
    "model = tf.keras.models.Sequential([\n",
    "    base_model,\n",
    "    \n",
    "    # # Input Layer\n",
    "    \n",
    "    # tf.keras.layers.Conv2D(32, (3, 3), activation = \"relu\", input_shape = (128, 128, 3)),\n",
    "    # tf.keras.layers.MaxPooling2D(2, 2),\n",
    "    \n",
    "    # #1st Hidden Layer\n",
    "\n",
    "    # tf.keras.layers.Conv2D(64, (3, 3), activation = \"relu\"),\n",
    "    # tf.keras.layers.MaxPooling2D(2, 2),\n",
    "    \n",
    "    #  #2nd Hidden Layer\n",
    "    \n",
    "    # tf.keras.layers.Conv2D(128, (3, 3), activation = \"relu\"),\n",
    "    # tf.keras.layers.MaxPooling2D(2, 2),\n",
    "    # #3rd Hidden Layer\n",
    "    \n",
    "    # tf.keras.layers.Conv2D(256, (3, 3), activation = \"relu\"),\n",
    "    # tf.keras.layers.MaxPooling2D(2, 2),\n",
    "    \n",
    "    tf.keras.layers.Flatten(),\n",
    "    \n",
    "    # Connected Layer\n",
    "    \n",
    "    tf.keras.layers.Dense(256, activation = \"relu\"),\n",
    "    tf.keras.layers.Dropout(0.5),\n",
    "    tf.keras.layers.Dense(2, activation = \"softmax\")\n",
    "])"
   ]
  },
  {
   "cell_type": "code",
   "execution_count": 36,
   "metadata": {},
   "outputs": [
    {
     "name": "stdout",
     "output_type": "stream",
     "text": [
      "Model: \"sequential_1\"\n",
      "_________________________________________________________________\n",
      " Layer (type)                Output Shape              Param #   \n",
      "=================================================================\n",
      " xception (Functional)       (None, 7, 7, 2048)        20861480  \n",
      "                                                                 \n",
      " flatten_1 (Flatten)         (None, 100352)            0         \n",
      "                                                                 \n",
      " dense_2 (Dense)             (None, 256)               25690368  \n",
      "                                                                 \n",
      " dropout_1 (Dropout)         (None, 256)               0         \n",
      "                                                                 \n",
      " dense_3 (Dense)             (None, 2)                 514       \n",
      "                                                                 \n",
      "=================================================================\n",
      "Total params: 46552362 (177.58 MB)\n",
      "Trainable params: 25690882 (98.00 MB)\n",
      "Non-trainable params: 20861480 (79.58 MB)\n",
      "_________________________________________________________________\n"
     ]
    }
   ],
   "source": [
    "# lihat arsitektur model\n",
    "model.summary()"
   ]
  },
  {
   "cell_type": "code",
   "execution_count": 37,
   "metadata": {},
   "outputs": [],
   "source": [
    "import datetime\n",
    "log_dir = \"logs/fit/\" + datetime.datetime.now().strftime(\"%Y%m%d-%H%M%S\")\n",
    "tensorboard_callback = TensorBoard(log_dir=log_dir, histogram_freq=1)"
   ]
  },
  {
   "cell_type": "code",
   "execution_count": 38,
   "metadata": {},
   "outputs": [
    {
     "name": "stdout",
     "output_type": "stream",
     "text": [
      "Epoch 1/20\n",
      "18/18 [==============================] - 45s 2s/step - loss: 3.3102 - acc: 0.8743 - val_loss: 0.6332 - val_acc: 0.9429\n",
      "Epoch 2/20\n",
      "18/18 [==============================] - 36s 2s/step - loss: 0.4861 - acc: 0.9767 - val_loss: 1.3836 - val_acc: 0.9571\n",
      "Epoch 3/20\n",
      "18/18 [==============================] - 36s 2s/step - loss: 0.3312 - acc: 0.9749 - val_loss: 1.1681 - val_acc: 0.9571\n",
      "Epoch 4/20\n",
      "18/18 [==============================] - 36s 2s/step - loss: 0.3220 - acc: 0.9838 - val_loss: 0.7471 - val_acc: 0.9643\n",
      "Epoch 5/20\n",
      "18/18 [==============================] - 37s 2s/step - loss: 0.2940 - acc: 0.9874 - val_loss: 0.6263 - val_acc: 0.9571\n",
      "Epoch 6/20\n",
      "18/18 [==============================] - 37s 2s/step - loss: 0.0705 - acc: 0.9910 - val_loss: 2.8806 - val_acc: 0.9286\n",
      "Epoch 7/20\n",
      "18/18 [==============================] - 37s 2s/step - loss: 0.1122 - acc: 0.9928 - val_loss: 0.9903 - val_acc: 0.9500\n",
      "Epoch 8/20\n",
      "18/18 [==============================] - 39s 2s/step - loss: 0.0387 - acc: 0.9946 - val_loss: 2.1022 - val_acc: 0.9429\n",
      "Epoch 9/20\n",
      "18/18 [==============================] - 39s 2s/step - loss: 0.0087 - acc: 0.9964 - val_loss: 2.0581 - val_acc: 0.9429\n",
      "Epoch 10/20\n",
      "18/18 [==============================] - 39s 2s/step - loss: 7.1663e-04 - acc: 1.0000 - val_loss: 1.3608 - val_acc: 0.9429\n",
      "Epoch 11/20\n",
      "18/18 [==============================] - 39s 2s/step - loss: 2.0070e-05 - acc: 1.0000 - val_loss: 1.2568 - val_acc: 0.9429\n",
      "Epoch 12/20\n",
      "18/18 [==============================] - 38s 2s/step - loss: 1.2999e-04 - acc: 1.0000 - val_loss: 1.2822 - val_acc: 0.9429\n",
      "Epoch 13/20\n",
      "18/18 [==============================] - 38s 2s/step - loss: 0.0347 - acc: 0.9982 - val_loss: 1.7162 - val_acc: 0.9429\n",
      "Epoch 14/20\n",
      "18/18 [==============================] - 39s 2s/step - loss: 0.0051 - acc: 0.9964 - val_loss: 1.2354 - val_acc: 0.9429\n",
      "Epoch 15/20\n",
      "18/18 [==============================] - 39s 2s/step - loss: 1.2841e-08 - acc: 1.0000 - val_loss: 1.2604 - val_acc: 0.9429\n",
      "Epoch 16/20\n",
      "18/18 [==============================] - 40s 2s/step - loss: 0.0943 - acc: 0.9964 - val_loss: 1.1484 - val_acc: 0.9429\n",
      "Epoch 17/20\n",
      "18/18 [==============================] - 39s 2s/step - loss: 0.0532 - acc: 0.9964 - val_loss: 2.4271 - val_acc: 0.9357\n",
      "Epoch 18/20\n",
      "18/18 [==============================] - 39s 2s/step - loss: 0.0683 - acc: 0.9964 - val_loss: 0.8822 - val_acc: 0.9429\n",
      "Epoch 19/20\n",
      "18/18 [==============================] - 41s 2s/step - loss: 0.0067 - acc: 0.9982 - val_loss: 2.3761 - val_acc: 0.9357\n",
      "Epoch 20/20\n",
      "18/18 [==============================] - 41s 2s/step - loss: 0.0414 - acc: 0.9946 - val_loss: 1.1607 - val_acc: 0.9500\n"
     ]
    }
   ],
   "source": [
    "# Compile a Model\n",
    "from keras.preprocessing.image import load_img\n",
    "\n",
    "\"\"\"\n",
    "Kasus yang dihadapi disini adalah binary class jadi kita harus menggunakan loss function yang bernama binary crossentropy\n",
    "\n",
    "\"\"\"\n",
    "model.compile(\n",
    "    loss='categorical_crossentropy',\n",
    "    optimizer='Adam',\n",
    "    metrics=['acc']\n",
    "   \n",
    ")\n",
    "\n",
    "# Train the model\n",
    "callbacks = myCallback()\n",
    "\n",
    "history = model.fit(\n",
    "    train_generator,\n",
    "    epochs=20,\n",
    "    verbose=1,\n",
    "    validation_data=validation_generator,\n",
    "    callbacks=[tensorboard_callback]\n",
    ")"
   ]
  },
  {
   "cell_type": "code",
   "execution_count": 39,
   "metadata": {},
   "outputs": [
    {
     "name": "stderr",
     "output_type": "stream",
     "text": [
      "c:\\Users\\arief\\miniconda3\\envs\\tf\\Lib\\site-packages\\keras\\src\\engine\\training.py:3103: UserWarning: You are saving your model as an HDF5 file via `model.save()`. This file format is considered legacy. We recommend using instead the native Keras format, e.g. `model.save('my_model.keras')`.\n",
      "  saving_api.save_model(\n"
     ]
    }
   ],
   "source": [
    "# Save the model to a file\n",
    "model.save('model_catdogs.h5')"
   ]
  },
  {
   "cell_type": "code",
   "execution_count": 40,
   "metadata": {},
   "outputs": [],
   "source": [
    "# Load the saved model\n",
    "load_model = tf.keras.models.load_model('model_catdogs.h5')"
   ]
  },
  {
   "cell_type": "code",
   "execution_count": 41,
   "metadata": {},
   "outputs": [
    {
     "data": {
      "text/plain": [
       "<Figure size 640x480 with 0 Axes>"
      ]
     },
     "execution_count": 41,
     "metadata": {},
     "output_type": "execute_result"
    },
    {
     "data": {
      "image/png": "[encoded data removed]",
      "text/plain": [
       "<Figure size 640x480 with 1 Axes>"
      ]
     },
     "metadata": {},
     "output_type": "display_data"
    },
    {
     "data": {
      "text/plain": [
       "<Figure size 640x480 with 0 Axes>"
      ]
     },
     "metadata": {},
     "output_type": "display_data"
    }
   ],
   "source": [
    "import matplotlib.pyplot as plt\n",
    "\n",
    "# Retrieve a list of list results on training and test data sets for each training epoch\n",
    "\n",
    "acc = history.history['acc']\n",
    "val_acc = history.history['val_acc']\n",
    "\n",
    "loss = history.history['loss']\n",
    "val_loss = history.history['val_loss']\n",
    "\n",
    "\n",
    "# Plot training and validation accuracy per epoch\n",
    "\n",
    "plt.plot(acc)\n",
    "plt.plot(val_acc)\n",
    "plt.title('Training and validation accuracy')\n",
    "plt.ylabel('accuracy')\n",
    "plt.xlabel('epoch')\n",
    "plt.legend(['train', 'val'], loc='upper left')\n",
    "plt.figure()"
   ]
  },
  {
   "cell_type": "code",
   "execution_count": 43,
   "metadata": {},
   "outputs": [
    {
     "name": "stdout",
     "output_type": "stream",
     "text": [
      "Test loss: 1.160678744316101\n",
      "Test accuracy: 0.949999988079071\n"
     ]
    }
   ],
   "source": [
    "# Evaluate on test dataset\n",
    "score = model.evaluate(validation_generator, verbose=False)\n",
    "print('Test loss:', score[0])\n",
    "print('Test accuracy:', score[1])"
   ]
  }
 ],
 "metadata": {
  "kernelspec": {
   "display_name": "Python 3",
   "language": "python",
   "name": "python3"
  },
  "language_info": {
   "codemirror_mode": {
    "name": "ipython",
    "version": 3
   },
   "file_extension": ".py",
   "mimetype": "text/x-python",
   "name": "python",
   "nbconvert_exporter": "python",
   "pygments_lexer": "ipython3",
   "version": "3.11.5"
  }
 },
 "nbformat": 4,
 "nbformat_minor": 2
}
